{
 "cells": [
  {
   "cell_type": "markdown",
   "metadata": {},
   "source": [
    "Before you turn this problem in, make sure everything runs as expected. First, **restart the kernel** (in the menu bar, select Kernel$\\rightarrow$Restart) and then **run all cells** (in the menu bar, select Cell$\\rightarrow$Run All).\n",
    "\n",
    "Below, please fill in your name and collaborators:"
   ]
  },
  {
   "cell_type": "code",
   "execution_count": 1,
   "metadata": {},
   "outputs": [],
   "source": [
    "NAME = \"Zoe(Xiaoao) Xu\"\n",
    "COLLABORATORS = \"\""
   ]
  },
  {
   "cell_type": "markdown",
   "metadata": {},
   "source": [
    "# Assignment 3 - Time Series Analysis\n",
    "**(15 points total)**"
   ]
  },
  {
   "cell_type": "markdown",
   "metadata": {},
   "source": [
    "## Assignment tasks:"
   ]
  },
  {
   "cell_type": "markdown",
   "metadata": {},
   "source": [
    "In this assignment you will conduct time series analysis of the financial data. \n",
    "\n",
    "1. Setup your environment to access and download latest stock data. Please see instructions below for different tools you can use to get the data. You can use any of the options provided, either Quandl or Yahoo Finance. If you know of any other service to download the data, please use that service, provide an explanation in the comments.\n",
    "\n",
    "2. *(2 points)* Download the **adjusted** close prices for FB, MMM, IBM and AMZN for the last 60 months. If you run into any issues downloading the data from online sources, you can use `.csv` files provided. This will not affect your grade for the assignment.\n",
    "\n",
    "3. *(3 points)* Resample the data to get prices for the end of the **business** month. Select the **Adjusted Close** for each stock.\n",
    "\n",
    "4. *(3 points)* Use the pandas `autocorrelation_plot()` function to plot the autocorrelation of the adjusted month-end close prices for each of the stocks.\n",
    "    - Are they autocorrelated?\n",
    "    - Provide short explanation.\n",
    "\n",
    "5. *(4 points)* \n",
    "    - Calculate the monthly returns for each stock using the \"shift trick\" explained in the lecture, using `shift()` function. \n",
    "    - Use pandas `autotocorrelation_plot()` to plot the autocorrelation of the monthly returns.\n",
    "    - Are the returns autocorrelated? Provide short explanation.\n",
    "\n",
    "6. *(3 points)*\n",
    "    - Combine all 4 time series (returns) into a single DataFrame,\n",
    "    - Visualize the correlation between the returns of all pairs of stocks using a scatter plot matrix (use `scatter_matrix()` function from `pandas.plotting`).\n",
    "    - Explain the results. Is there any correlation?\n",
    "\n",
    "**NOTES:** \n",
    "1. In this assignment, please make sure the DataFrame(s) do not contain any NAs before you plot autocorrelations or scatter matrix.\n",
    "2. Both options explained below use `pandas-datareader` package for remote data access. To install it, type the following in a command window: `conda install pandas-datareader`. You will also need to install one or more of the following packages `fix_yahoo_finance`, `quandl`. See below.\n",
    "\n",
    "---------"
   ]
  },
  {
   "cell_type": "markdown",
   "metadata": {},
   "source": [
    "## Downloading Stock Prices"
   ]
  },
  {
   "cell_type": "markdown",
   "metadata": {},
   "source": [
    "### Option 1 - Using QUANDL"
   ]
  },
  {
   "cell_type": "markdown",
   "metadata": {},
   "source": [
    "To use QUANDL service, you need to create an account and get an API Key. Here is the short description of steps:\n",
    "\n",
    "- Go to https://www.quandl.com/\n",
    "- Click either `sign up` at the top right corner of the home page, or scroll all the way down and click `Create Free Account` button at the bottom of the page.\n",
    "- Create an account. \n",
    "- You will receive an email to the email address you have used during the registration. Confirm your email.\n",
    "\n",
    "You are all set.\n",
    "\n",
    "Now, as you login into your account, click the avatar icon at the top right corner of the page, select `\"Account Settings.\"`\n",
    "On the next page, you will see `Your API Key` field with a long string of numbers and characters underneath. You need this API key for your call to Quandl from the notebook. In the code below, replace `YOUR_API_KEY` with the actual API key from your account. \n",
    "\n",
    "**NOTE**: You can remove this key before submitting the assignment."
   ]
  },
  {
   "cell_type": "code",
   "execution_count": 2,
   "metadata": {},
   "outputs": [
    {
     "name": "stdout",
     "output_type": "stream",
     "text": [
      "Collecting package metadata (current_repodata.json): ...working... done\n",
      "Solving environment: ...working... \n",
      "Warning: 2 possible package resolutions (only showing differing packages):\n",
      "  - defaults::openssl-1.1.1c-he774522_1\n",
      "  - anaconda::openssl-1.1.1c-he774522_1done\n",
      "\n",
      "# All requested packages already installed.\n",
      "\n",
      "\n",
      "Note: you may need to restart the kernel to use updated packages.\n"
     ]
    }
   ],
   "source": [
    "conda install quandl\n"
   ]
  },
  {
   "cell_type": "code",
   "execution_count": 3,
   "metadata": {},
   "outputs": [],
   "source": [
    "# all imports and env variables\n",
    "import pandas as pd\n",
    "pd.core.common.is_list_like = pd.api.types.is_list_like\n",
    "import datetime\n",
    "import pandas_datareader.data as web\n",
    "\n",
    "# This line of code should work on Windows and Mac\n",
    "#%env QUANDL_API_KEY = \"YOUR_API_KEY\"\n",
    "\n",
    "# If the above line of code does not work on your system,\n",
    "# You can use this way of setting Quandl env variable\n",
    "import quandl\n",
    "quandl.ApiConfig.api_key = \"iaiBotWeQxFfKwx5xTBo\""
   ]
  },
  {
   "cell_type": "code",
   "execution_count": 4,
   "metadata": {},
   "outputs": [
    {
     "name": "stdout",
     "output_type": "stream",
     "text": [
      "Collecting package metadata (current_repodata.json): ...working... done\n",
      "Solving environment: ...working... done\n",
      "\n",
      "## Package Plan ##\n",
      "\n",
      "  environment location: C:\\Users\\zoe.xu\\Documents\n",
      "\n",
      "  added / updated specs:\n",
      "    - yfinance\n",
      "\n",
      "\n",
      "The following packages will be downloaded:\n",
      "\n",
      "    package                    |            build\n",
      "    ---------------------------|-----------------\n",
      "    yfinance-0.1.50            |             py_0         646 KB  ranaroussi\n",
      "    ------------------------------------------------------------\n",
      "                                           Total:         646 KB\n",
      "\n",
      "The following NEW packages will be INSTALLED:\n",
      "\n",
      "  multitasking       ranaroussi/noarch::multitasking-0.0.9-py_0\n",
      "  yfinance           ranaroussi/noarch::yfinance-0.1.50-py_0\n",
      "\n",
      "\n",
      "\n",
      "Downloading and Extracting Packages\n",
      "\n",
      "yfinance-0.1.50      | 646 KB    |            |   0% \n",
      "yfinance-0.1.50      | 646 KB    | 2          |   2% \n",
      "yfinance-0.1.50      | 646 KB    | 7          |   7% \n",
      "yfinance-0.1.50      | 646 KB    | #9         |  20% \n",
      "yfinance-0.1.50      | 646 KB    | ####2      |  42% \n",
      "yfinance-0.1.50      | 646 KB    | ######1    |  62% \n",
      "yfinance-0.1.50      | 646 KB    | #######4   |  74% \n",
      "yfinance-0.1.50      | 646 KB    | #########4 |  94% \n",
      "yfinance-0.1.50      | 646 KB    | ########## | 100% \n",
      "\n",
      "Note: you may need to restart the kernel to use updated packages.\n"
     ]
    },
    {
     "name": "stderr",
     "output_type": "stream",
     "text": [
      "\n",
      "InvalidArchiveError('Error with archive C:\\\\Users\\\\zoe.xu\\\\Documents\\\\pkgs\\\\yfinance-0.1.50-py_0.tar.bz2.  You probably need to delete and re-download or re-create this file.  Message from libarchive was:\\n\\nCould not unlink (errno=22, retcode=-25, archive_p=2544049881584)')\n",
      "\n"
     ]
    }
   ],
   "source": [
    "conda install -c ranaroussi yfinance"
   ]
  },
  {
   "cell_type": "code",
   "execution_count": 5,
   "metadata": {},
   "outputs": [
    {
     "name": "stdout",
     "output_type": "stream",
     "text": [
      "[*********************100%***********************]  1 of 1 completed\n"
     ]
    }
   ],
   "source": [
    "# Make sure you adjust the start and end date accordingly\n",
    "# so that the start date = today date\n",
    "\n",
    "import yfinance as yf\n",
    "\n",
    "#where `start` and `end` you can specify before this line of code as separate attributes, or you can specify them explicitly:\n",
    "\n",
    "data = yf.download(\"AMZN\", start='2014-11-01', end='2019-11-01')"
   ]
  },
  {
   "cell_type": "markdown",
   "metadata": {},
   "source": [
    "### Option 2 - Using Yahoo Finance `fix_yahoo_finance` library"
   ]
  },
  {
   "cell_type": "code",
   "execution_count": 6,
   "metadata": {},
   "outputs": [
    {
     "name": "stdout",
     "output_type": "stream",
     "text": [
      "Requirement already up-to-date: yfinance in c:\\users\\zoe.xu\\documents\\lib\\site-packages (0.1.50)\n",
      "Requirement already satisfied, skipping upgrade: numpy>=1.15 in c:\\users\\zoe.xu\\documents\\lib\\site-packages (from yfinance) (1.16.4)\n",
      "Requirement already satisfied, skipping upgrade: pandas>=0.24 in c:\\users\\zoe.xu\\documents\\lib\\site-packages (from yfinance) (0.24.2)\n",
      "Requirement already satisfied, skipping upgrade: multitasking>=0.0.7 in c:\\users\\zoe.xu\\documents\\lib\\site-packages (from yfinance) (0.0.9)\n",
      "Requirement already satisfied, skipping upgrade: requests>=2.20 in c:\\users\\zoe.xu\\documents\\lib\\site-packages (from yfinance) (2.22.0)\n",
      "Requirement already satisfied, skipping upgrade: python-dateutil>=2.5.0 in c:\\users\\zoe.xu\\documents\\lib\\site-packages (from pandas>=0.24->yfinance) (2.8.0)\n",
      "Requirement already satisfied, skipping upgrade: pytz>=2011k in c:\\users\\zoe.xu\\documents\\lib\\site-packages (from pandas>=0.24->yfinance) (2019.1)\n",
      "Requirement already satisfied, skipping upgrade: certifi>=2017.4.17 in c:\\users\\zoe.xu\\documents\\lib\\site-packages (from requests>=2.20->yfinance) (2019.6.16)\n",
      "Requirement already satisfied, skipping upgrade: chardet<3.1.0,>=3.0.2 in c:\\users\\zoe.xu\\documents\\lib\\site-packages (from requests>=2.20->yfinance) (3.0.4)\n",
      "Requirement already satisfied, skipping upgrade: urllib3!=1.25.0,!=1.25.1,<1.26,>=1.21.1 in c:\\users\\zoe.xu\\documents\\lib\\site-packages (from requests>=2.20->yfinance) (1.24.2)\n",
      "Requirement already satisfied, skipping upgrade: idna<2.9,>=2.5 in c:\\users\\zoe.xu\\documents\\lib\\site-packages (from requests>=2.20->yfinance) (2.8)\n",
      "Requirement already satisfied, skipping upgrade: six>=1.5 in c:\\users\\zoe.xu\\documents\\lib\\site-packages (from python-dateutil>=2.5.0->pandas>=0.24->yfinance) (1.12.0)\n",
      "Note: you may need to restart the kernel to use updated packages.\n"
     ]
    }
   ],
   "source": [
    "pip install yfinance --upgrade --no-cache-dir"
   ]
  },
  {
   "cell_type": "code",
   "execution_count": 7,
   "metadata": {},
   "outputs": [
    {
     "name": "stdout",
     "output_type": "stream",
     "text": [
      "[*********************100%***********************]  1 of 1 completed\n"
     ]
    }
   ],
   "source": [
    "import yfinance as yf\n",
    "from pandas_datareader import data as pdr\n",
    "\n",
    "# 1) Using pandas datareader and Yahoo Finance\n",
    "yf.pdr_override()\n",
    "\n",
    "amzn = pdr.get_data_yahoo('AMZN', start='2014-11-01', end='2019-11-01')\n"
   ]
  },
  {
   "cell_type": "code",
   "execution_count": 8,
   "metadata": {},
   "outputs": [],
   "source": [
    "# 2) Using fix_yahoo_finance library only to download AMZN data\n",
    "\n",
    "#amzn = yf.download('AMZN', start=start)"
   ]
  },
  {
   "cell_type": "code",
   "execution_count": 9,
   "metadata": {},
   "outputs": [],
   "source": [
    "# If we want to download multipe stocks into a single dataframe:\n"
   ]
  },
  {
   "cell_type": "code",
   "execution_count": 10,
   "metadata": {},
   "outputs": [
    {
     "name": "stdout",
     "output_type": "stream",
     "text": [
      "[*********************100%***********************]  1 of 1 completed\n"
     ]
    }
   ],
   "source": [
    "## TYPE YOUE CODE BELOW\n",
    "#(2 points) Download the adjusted close prices for FB, MMM, IBM and AMZN \n",
    "#for the last 60 months. If you run into any issues downloading the data from online sources,\n",
    "#you can use .csv files provided. This will not affect your grade for the assignment.\n",
    "all_stocks_list = ['AMZN']\n",
    "all_stocks = yf.download(all_stocks_list, start='2014-11-01', end='2019-11-01')\n"
   ]
  },
  {
   "cell_type": "code",
   "execution_count": 11,
   "metadata": {
    "scrolled": false
   },
   "outputs": [
    {
     "data": {
      "text/html": [
       "<div>\n",
       "<style scoped>\n",
       "    .dataframe tbody tr th:only-of-type {\n",
       "        vertical-align: middle;\n",
       "    }\n",
       "\n",
       "    .dataframe tbody tr th {\n",
       "        vertical-align: top;\n",
       "    }\n",
       "\n",
       "    .dataframe thead th {\n",
       "        text-align: right;\n",
       "    }\n",
       "</style>\n",
       "<table border=\"1\" class=\"dataframe\">\n",
       "  <thead>\n",
       "    <tr style=\"text-align: right;\">\n",
       "      <th></th>\n",
       "      <th>Open</th>\n",
       "      <th>High</th>\n",
       "      <th>Low</th>\n",
       "      <th>Close</th>\n",
       "      <th>Adj Close</th>\n",
       "      <th>Volume</th>\n",
       "    </tr>\n",
       "    <tr>\n",
       "      <th>Date</th>\n",
       "      <th></th>\n",
       "      <th></th>\n",
       "      <th></th>\n",
       "      <th></th>\n",
       "      <th></th>\n",
       "      <th></th>\n",
       "    </tr>\n",
       "  </thead>\n",
       "  <tbody>\n",
       "    <tr>\n",
       "      <th>2014-11-03</th>\n",
       "      <td>306.239990</td>\n",
       "      <td>308.010010</td>\n",
       "      <td>303.239990</td>\n",
       "      <td>305.720001</td>\n",
       "      <td>305.720001</td>\n",
       "      <td>3242500</td>\n",
       "    </tr>\n",
       "    <tr>\n",
       "      <th>2014-11-04</th>\n",
       "      <td>303.989990</td>\n",
       "      <td>304.250000</td>\n",
       "      <td>300.170013</td>\n",
       "      <td>302.809998</td>\n",
       "      <td>302.809998</td>\n",
       "      <td>3427400</td>\n",
       "    </tr>\n",
       "    <tr>\n",
       "      <th>2014-11-05</th>\n",
       "      <td>303.010010</td>\n",
       "      <td>304.000000</td>\n",
       "      <td>294.160004</td>\n",
       "      <td>296.519989</td>\n",
       "      <td>296.519989</td>\n",
       "      <td>4674500</td>\n",
       "    </tr>\n",
       "    <tr>\n",
       "      <th>2014-11-06</th>\n",
       "      <td>296.690002</td>\n",
       "      <td>297.000000</td>\n",
       "      <td>292.290009</td>\n",
       "      <td>296.640015</td>\n",
       "      <td>296.640015</td>\n",
       "      <td>3758100</td>\n",
       "    </tr>\n",
       "    <tr>\n",
       "      <th>2014-11-07</th>\n",
       "      <td>297.820007</td>\n",
       "      <td>299.989990</td>\n",
       "      <td>296.290009</td>\n",
       "      <td>299.859985</td>\n",
       "      <td>299.859985</td>\n",
       "      <td>2647400</td>\n",
       "    </tr>\n",
       "    <tr>\n",
       "      <th>2014-11-10</th>\n",
       "      <td>300.000000</td>\n",
       "      <td>305.799988</td>\n",
       "      <td>300.000000</td>\n",
       "      <td>305.109985</td>\n",
       "      <td>305.109985</td>\n",
       "      <td>2809100</td>\n",
       "    </tr>\n",
       "    <tr>\n",
       "      <th>2014-11-11</th>\n",
       "      <td>305.940002</td>\n",
       "      <td>312.380005</td>\n",
       "      <td>303.649994</td>\n",
       "      <td>312.010010</td>\n",
       "      <td>312.010010</td>\n",
       "      <td>3803600</td>\n",
       "    </tr>\n",
       "    <tr>\n",
       "      <th>2014-11-12</th>\n",
       "      <td>310.750000</td>\n",
       "      <td>312.579987</td>\n",
       "      <td>308.790009</td>\n",
       "      <td>311.510010</td>\n",
       "      <td>311.510010</td>\n",
       "      <td>2183000</td>\n",
       "    </tr>\n",
       "    <tr>\n",
       "      <th>2014-11-13</th>\n",
       "      <td>312.000000</td>\n",
       "      <td>317.890015</td>\n",
       "      <td>311.510010</td>\n",
       "      <td>316.480011</td>\n",
       "      <td>316.480011</td>\n",
       "      <td>3686400</td>\n",
       "    </tr>\n",
       "    <tr>\n",
       "      <th>2014-11-14</th>\n",
       "      <td>317.119995</td>\n",
       "      <td>332.880005</td>\n",
       "      <td>316.399994</td>\n",
       "      <td>327.820007</td>\n",
       "      <td>327.820007</td>\n",
       "      <td>8877800</td>\n",
       "    </tr>\n",
       "  </tbody>\n",
       "</table>\n",
       "</div>"
      ],
      "text/plain": [
       "                  Open        High         Low       Close   Adj Close  \\\n",
       "Date                                                                     \n",
       "2014-11-03  306.239990  308.010010  303.239990  305.720001  305.720001   \n",
       "2014-11-04  303.989990  304.250000  300.170013  302.809998  302.809998   \n",
       "2014-11-05  303.010010  304.000000  294.160004  296.519989  296.519989   \n",
       "2014-11-06  296.690002  297.000000  292.290009  296.640015  296.640015   \n",
       "2014-11-07  297.820007  299.989990  296.290009  299.859985  299.859985   \n",
       "2014-11-10  300.000000  305.799988  300.000000  305.109985  305.109985   \n",
       "2014-11-11  305.940002  312.380005  303.649994  312.010010  312.010010   \n",
       "2014-11-12  310.750000  312.579987  308.790009  311.510010  311.510010   \n",
       "2014-11-13  312.000000  317.890015  311.510010  316.480011  316.480011   \n",
       "2014-11-14  317.119995  332.880005  316.399994  327.820007  327.820007   \n",
       "\n",
       "             Volume  \n",
       "Date                 \n",
       "2014-11-03  3242500  \n",
       "2014-11-04  3427400  \n",
       "2014-11-05  4674500  \n",
       "2014-11-06  3758100  \n",
       "2014-11-07  2647400  \n",
       "2014-11-10  2809100  \n",
       "2014-11-11  3803600  \n",
       "2014-11-12  2183000  \n",
       "2014-11-13  3686400  \n",
       "2014-11-14  8877800  "
      ]
     },
     "execution_count": 11,
     "metadata": {},
     "output_type": "execute_result"
    }
   ],
   "source": [
    "all_stocks.head(10)"
   ]
  },
  {
   "cell_type": "code",
   "execution_count": null,
   "metadata": {},
   "outputs": [],
   "source": []
  },
  {
   "cell_type": "code",
   "execution_count": 12,
   "metadata": {
    "scrolled": false
   },
   "outputs": [
    {
     "data": {
      "text/html": [
       "<div>\n",
       "<style scoped>\n",
       "    .dataframe tbody tr th:only-of-type {\n",
       "        vertical-align: middle;\n",
       "    }\n",
       "\n",
       "    .dataframe tbody tr th {\n",
       "        vertical-align: top;\n",
       "    }\n",
       "\n",
       "    .dataframe thead th {\n",
       "        text-align: right;\n",
       "    }\n",
       "</style>\n",
       "<table border=\"1\" class=\"dataframe\">\n",
       "  <thead>\n",
       "    <tr style=\"text-align: right;\">\n",
       "      <th></th>\n",
       "      <th>Open</th>\n",
       "      <th>High</th>\n",
       "      <th>Low</th>\n",
       "      <th>Close</th>\n",
       "      <th>Adj Close</th>\n",
       "      <th>Volume</th>\n",
       "    </tr>\n",
       "    <tr>\n",
       "      <th>Date</th>\n",
       "      <th></th>\n",
       "      <th></th>\n",
       "      <th></th>\n",
       "      <th></th>\n",
       "      <th></th>\n",
       "      <th></th>\n",
       "    </tr>\n",
       "  </thead>\n",
       "  <tbody>\n",
       "    <tr>\n",
       "      <th>2014-11-03</th>\n",
       "      <td>306.239990</td>\n",
       "      <td>308.010010</td>\n",
       "      <td>303.239990</td>\n",
       "      <td>305.720001</td>\n",
       "      <td>305.720001</td>\n",
       "      <td>3242500</td>\n",
       "    </tr>\n",
       "    <tr>\n",
       "      <th>2014-11-04</th>\n",
       "      <td>303.989990</td>\n",
       "      <td>304.250000</td>\n",
       "      <td>300.170013</td>\n",
       "      <td>302.809998</td>\n",
       "      <td>302.809998</td>\n",
       "      <td>3427400</td>\n",
       "    </tr>\n",
       "    <tr>\n",
       "      <th>2014-11-05</th>\n",
       "      <td>303.010010</td>\n",
       "      <td>304.000000</td>\n",
       "      <td>294.160004</td>\n",
       "      <td>296.519989</td>\n",
       "      <td>296.519989</td>\n",
       "      <td>4674500</td>\n",
       "    </tr>\n",
       "    <tr>\n",
       "      <th>2014-11-06</th>\n",
       "      <td>296.690002</td>\n",
       "      <td>297.000000</td>\n",
       "      <td>292.290009</td>\n",
       "      <td>296.640015</td>\n",
       "      <td>296.640015</td>\n",
       "      <td>3758100</td>\n",
       "    </tr>\n",
       "    <tr>\n",
       "      <th>2014-11-07</th>\n",
       "      <td>297.820007</td>\n",
       "      <td>299.989990</td>\n",
       "      <td>296.290009</td>\n",
       "      <td>299.859985</td>\n",
       "      <td>299.859985</td>\n",
       "      <td>2647400</td>\n",
       "    </tr>\n",
       "    <tr>\n",
       "      <th>2014-11-10</th>\n",
       "      <td>300.000000</td>\n",
       "      <td>305.799988</td>\n",
       "      <td>300.000000</td>\n",
       "      <td>305.109985</td>\n",
       "      <td>305.109985</td>\n",
       "      <td>2809100</td>\n",
       "    </tr>\n",
       "    <tr>\n",
       "      <th>2014-11-11</th>\n",
       "      <td>305.940002</td>\n",
       "      <td>312.380005</td>\n",
       "      <td>303.649994</td>\n",
       "      <td>312.010010</td>\n",
       "      <td>312.010010</td>\n",
       "      <td>3803600</td>\n",
       "    </tr>\n",
       "    <tr>\n",
       "      <th>2014-11-12</th>\n",
       "      <td>310.750000</td>\n",
       "      <td>312.579987</td>\n",
       "      <td>308.790009</td>\n",
       "      <td>311.510010</td>\n",
       "      <td>311.510010</td>\n",
       "      <td>2183000</td>\n",
       "    </tr>\n",
       "    <tr>\n",
       "      <th>2014-11-13</th>\n",
       "      <td>312.000000</td>\n",
       "      <td>317.890015</td>\n",
       "      <td>311.510010</td>\n",
       "      <td>316.480011</td>\n",
       "      <td>316.480011</td>\n",
       "      <td>3686400</td>\n",
       "    </tr>\n",
       "    <tr>\n",
       "      <th>2014-11-14</th>\n",
       "      <td>317.119995</td>\n",
       "      <td>332.880005</td>\n",
       "      <td>316.399994</td>\n",
       "      <td>327.820007</td>\n",
       "      <td>327.820007</td>\n",
       "      <td>8877800</td>\n",
       "    </tr>\n",
       "  </tbody>\n",
       "</table>\n",
       "</div>"
      ],
      "text/plain": [
       "                  Open        High         Low       Close   Adj Close  \\\n",
       "Date                                                                     \n",
       "2014-11-03  306.239990  308.010010  303.239990  305.720001  305.720001   \n",
       "2014-11-04  303.989990  304.250000  300.170013  302.809998  302.809998   \n",
       "2014-11-05  303.010010  304.000000  294.160004  296.519989  296.519989   \n",
       "2014-11-06  296.690002  297.000000  292.290009  296.640015  296.640015   \n",
       "2014-11-07  297.820007  299.989990  296.290009  299.859985  299.859985   \n",
       "2014-11-10  300.000000  305.799988  300.000000  305.109985  305.109985   \n",
       "2014-11-11  305.940002  312.380005  303.649994  312.010010  312.010010   \n",
       "2014-11-12  310.750000  312.579987  308.790009  311.510010  311.510010   \n",
       "2014-11-13  312.000000  317.890015  311.510010  316.480011  316.480011   \n",
       "2014-11-14  317.119995  332.880005  316.399994  327.820007  327.820007   \n",
       "\n",
       "             Volume  \n",
       "Date                 \n",
       "2014-11-03  3242500  \n",
       "2014-11-04  3427400  \n",
       "2014-11-05  4674500  \n",
       "2014-11-06  3758100  \n",
       "2014-11-07  2647400  \n",
       "2014-11-10  2809100  \n",
       "2014-11-11  3803600  \n",
       "2014-11-12  2183000  \n",
       "2014-11-13  3686400  \n",
       "2014-11-14  8877800  "
      ]
     },
     "execution_count": 12,
     "metadata": {},
     "output_type": "execute_result"
    }
   ],
   "source": [
    "#3.(3 points) Resample the data to get prices for the end of the business month. Select the Adjusted Close for each stock.\n",
    "amzn_stocks=all_stocks\n",
    "amzn_stocks.head(10)\n"
   ]
  },
  {
   "cell_type": "code",
   "execution_count": 13,
   "metadata": {},
   "outputs": [
    {
     "data": {
      "text/plain": [
       "DatetimeIndex(['2014-11-03', '2014-11-04', '2014-11-05', '2014-11-06',\n",
       "               '2014-11-07', '2014-11-10', '2014-11-11', '2014-11-12',\n",
       "               '2014-11-13', '2014-11-14',\n",
       "               ...\n",
       "               '2019-10-21', '2019-10-22', '2019-10-23', '2019-10-24',\n",
       "               '2019-10-25', '2019-10-28', '2019-10-29', '2019-10-30',\n",
       "               '2019-10-31', '2019-11-01'],\n",
       "              dtype='datetime64[ns]', name='Date', length=1259, freq=None)"
      ]
     },
     "execution_count": 13,
     "metadata": {},
     "output_type": "execute_result"
    }
   ],
   "source": [
    "amzn_stocks.index"
   ]
  },
  {
   "cell_type": "code",
   "execution_count": 14,
   "metadata": {},
   "outputs": [
    {
     "data": {
      "text/plain": [
       "Date\n",
       "2014-11-03    305.720001\n",
       "2014-11-04    302.809998\n",
       "2014-11-05    296.519989\n",
       "2014-11-06    296.640015\n",
       "2014-11-07    299.859985\n",
       "2014-11-10    305.109985\n",
       "2014-11-11    312.010010\n",
       "2014-11-12    311.510010\n",
       "2014-11-13    316.480011\n",
       "2014-11-14    327.820007\n",
       "dtype: float64"
      ]
     },
     "execution_count": 14,
     "metadata": {},
     "output_type": "execute_result"
    }
   ],
   "source": [
    "\n",
    "amzn_stocks_series=pd.Series(list(amzn_stocks['Adj Close']),index=pd.to_datetime(amzn_stocks.index))\n",
    "amzn_stocks_series.head(10)\n"
   ]
  },
  {
   "cell_type": "code",
   "execution_count": 15,
   "metadata": {},
   "outputs": [
    {
     "data": {
      "text/plain": [
       "Date\n",
       "2014-11-30    318.687372\n",
       "2014-12-31    308.786819\n",
       "2015-01-31    302.747501\n",
       "2015-02-28    375.745263\n",
       "2015-03-31    375.321361\n",
       "2015-04-30    394.212857\n",
       "2015-05-31    426.927501\n",
       "2015-06-30    432.599548\n",
       "2015-07-31    478.709095\n",
       "2015-08-31    518.464765\n",
       "Freq: M, dtype: float64"
      ]
     },
     "execution_count": 15,
     "metadata": {},
     "output_type": "execute_result"
    }
   ],
   "source": [
    "#Get the prices for the end of the business month\n",
    "# \"original\":amzn_stocks_series,\n",
    "    #\"resampled\"\n",
    "    \n",
    "amzn_stocks_series_m=amzn_stocks_series.resample(\"M\").mean()\n",
    "amzn_stocks_series_m.head(10)\n"
   ]
  },
  {
   "cell_type": "code",
   "execution_count": 16,
   "metadata": {},
   "outputs": [],
   "source": [
    "#4.(3 points) Use the pandas autocorrelation_plot() function to plot the autocorrelation of the adjusted month-end close prices for each of the stocks.\n",
    "#•Are they autocorrelated?\n",
    "#•Provide short explanation.\n",
    "\n"
   ]
  },
  {
   "cell_type": "code",
   "execution_count": 17,
   "metadata": {},
   "outputs": [],
   "source": [
    "\"\"\"\n",
    "Actual calculation of correlation for each lag value.\n",
    "Looking at the prior graph, we can affirm that the observed series is white noise.\n",
    "\"\"\"\n",
    "amzn_TimePlot = pd.plotting.autocorrelation_plot(amzn_stocks_series_m)\n",
    "amzn_TimePlot.set_title(\"AMZN Autocorrelation Graph of Month End Price\")\n",
    "amzn_TimePlot.set_ylabel(\"Correlation\")\n",
    "amzn_TimePlot.set_xlabel(\"Lag (Month)\")\n",
    "None"
   ]
  },
  {
   "cell_type": "code",
   "execution_count": 18,
   "metadata": {},
   "outputs": [],
   "source": [
    "# all the data point are autocorrelated becuase more of the coeffcientcy is not zero. \n",
    "# We can test the series to find further patterns. "
   ]
  },
  {
   "cell_type": "code",
   "execution_count": 19,
   "metadata": {},
   "outputs": [],
   "source": [
    "#5.(4 points) \n",
    "#•Calculate the monthly returns for each stock using the \"shift trick\" explained in the lecture, using shift() function. \n",
    "#•Use pandas autotocorrelation_plot() to plot the autocorrelation of the monthly returns.\n",
    "#•Are the returns autocorrelated? Provide short explanation.\n",
    "\n"
   ]
  },
  {
   "cell_type": "code",
   "execution_count": 20,
   "metadata": {},
   "outputs": [
    {
     "data": {
      "text/plain": [
       "Date\n",
       "2014-11-30         NaN\n",
       "2014-12-31   -0.031067\n",
       "2015-01-31   -0.019558\n",
       "2015-02-28    0.241118\n",
       "2015-03-31   -0.001128\n",
       "2015-04-30    0.050334\n",
       "2015-05-31    0.082987\n",
       "2015-06-30    0.013286\n",
       "2015-07-31    0.106587\n",
       "2015-08-31    0.083048\n",
       "Freq: M, dtype: float64"
      ]
     },
     "execution_count": 20,
     "metadata": {},
     "output_type": "execute_result"
    }
   ],
   "source": [
    "# With shift(), shift time series and calculate the \n",
    "amzn_return=amzn_stocks_series_m / amzn_stocks_series_m.shift(1)-1\n",
    "amzn_return.head(10)\n"
   ]
  },
  {
   "cell_type": "code",
   "execution_count": 21,
   "metadata": {},
   "outputs": [
    {
     "data": {
      "text/plain": [
       "Date\n",
       "2014-11-30     True\n",
       "2014-12-31    False\n",
       "2015-01-31    False\n",
       "2015-02-28    False\n",
       "2015-03-31    False\n",
       "2015-04-30    False\n",
       "2015-05-31    False\n",
       "2015-06-30    False\n",
       "2015-07-31    False\n",
       "2015-08-31    False\n",
       "Freq: M, dtype: bool"
      ]
     },
     "execution_count": 21,
     "metadata": {},
     "output_type": "execute_result"
    }
   ],
   "source": [
    "#There is/are NaN in the series. \n",
    "#Try to fill backwards using method= 'ffill'\n",
    "amzn_return_adj=amzn_return.asfreq(freq='M', method='ffill')\n",
    "pd.isna(amzn_return_adj).head(10)"
   ]
  },
  {
   "cell_type": "code",
   "execution_count": 22,
   "metadata": {},
   "outputs": [
    {
     "data": {
      "text/plain": [
       "Date\n",
       "2014-11-30    False\n",
       "2014-12-31    False\n",
       "2015-01-31    False\n",
       "2015-02-28    False\n",
       "2015-03-31    False\n",
       "2015-04-30    False\n",
       "2015-05-31    False\n",
       "2015-06-30    False\n",
       "2015-07-31    False\n",
       "2015-08-31    False\n",
       "Freq: M, dtype: bool"
      ]
     },
     "execution_count": 22,
     "metadata": {},
     "output_type": "execute_result"
    }
   ],
   "source": [
    "#There is/are NaN in the series. \n",
    "#Try to fill NaN at 2014-11-30 with zero\n",
    "amzn_return_adj=amzn_return.fillna(0)\n",
    "pd.isna(amzn_return_adj).head(10)"
   ]
  },
  {
   "cell_type": "code",
   "execution_count": 23,
   "metadata": {},
   "outputs": [
    {
     "data": {
      "image/png": "[encoded data removed]",
      "text/plain": [
       "<Figure size 432x288 with 1 Axes>"
      ]
     },
     "metadata": {
      "needs_background": "light"
     },
     "output_type": "display_data"
    }
   ],
   "source": [
    "#test the correlation of the monthly return. \n",
    "amzn_return_TimePlot = pd.plotting.autocorrelation_plot(amzn_return_adj)\n",
    "amzn_return_TimePlot.set_title(\"AMZN Autocorrelation Graph of Monthly Return\")\n",
    "amzn_return_TimePlot.set_ylabel(\"Correlation\")\n",
    "amzn_return_TimePlot.set_xlabel(\"Return (Month)\")\n",
    "None"
   ]
  },
  {
   "cell_type": "code",
   "execution_count": 24,
   "metadata": {},
   "outputs": [],
   "source": [
    "# the returns are correlated. the correlation is not storng as it is between -0.25 to 0.25"
   ]
  },
  {
   "cell_type": "code",
   "execution_count": 25,
   "metadata": {},
   "outputs": [
    {
     "name": "stdout",
     "output_type": "stream",
     "text": [
      "[*********************100%***********************]  1 of 1 completed\n"
     ]
    },
    {
     "data": {
      "image/png": "[encoded data removed]",
      "text/plain": [
       "<Figure size 432x288 with 1 Axes>"
      ]
     },
     "metadata": {
      "needs_background": "light"
     },
     "output_type": "display_data"
    }
   ],
   "source": [
    "#6.(3 points)\n",
    "#•Combine all 4 time series (returns) into a single DataFrame,\n",
    "\n",
    "\n",
    "ibm_stocks_list = ['IBM']\n",
    "ibm_stocks = yf.download(ibm_stocks_list, start='2014-11-01', end='2019-11-01')\n",
    "ibm_stocks_series=pd.Series(list(ibm_stocks['Adj Close']),index=pd.to_datetime(ibm_stocks.index))\n",
    "ibm_stocks_series_m=ibm_stocks_series.resample(\"M\").mean()\n",
    "ibm_TimePlot = pd.plotting.autocorrelation_plot(ibm_stocks_series_m)\n",
    "ibm_TimePlot.set_title(\"IBM Autocorrelation Graph of Mmonth End Price\")\n",
    "ibm_TimePlot.set_ylabel(\"Correlation\")\n",
    "ibm_TimePlot.set_xlabel(\"Lag (Month)\")\n",
    "None"
   ]
  },
  {
   "cell_type": "code",
   "execution_count": 26,
   "metadata": {},
   "outputs": [
    {
     "data": {
      "image/png": "[encoded data removed]",
      "text/plain": [
       "<Figure size 432x288 with 1 Axes>"
      ]
     },
     "metadata": {
      "needs_background": "light"
     },
     "output_type": "display_data"
    }
   ],
   "source": [
    "ibm_return=ibm_stocks_series_m / ibm_stocks_series_m.shift(1)-1\n",
    "ibm_return_adj=ibm_return.fillna(0)\n",
    "ibm_return_TimePlot = pd.plotting.autocorrelation_plot(ibm_return_adj)\n",
    "ibm_return_TimePlot.set_title(\"IBM Autocorrelation Graph of Monthly Return\")\n",
    "ibm_return_TimePlot.set_ylabel(\"Correlation\")\n",
    "ibm_return_TimePlot.set_xlabel(\"Return (Month)\")\n",
    "None"
   ]
  },
  {
   "cell_type": "code",
   "execution_count": 27,
   "metadata": {},
   "outputs": [
    {
     "name": "stdout",
     "output_type": "stream",
     "text": [
      "[*********************100%***********************]  1 of 1 completed\n"
     ]
    },
    {
     "data": {
      "image/png": "[encoded data removed]",
      "text/plain": [
       "<Figure size 432x288 with 1 Axes>"
      ]
     },
     "metadata": {
      "needs_background": "light"
     },
     "output_type": "display_data"
    }
   ],
   "source": [
    "fb_stocks_list = ['FB']\n",
    "fb_stocks = yf.download(fb_stocks_list, start='2014-11-01', end='2019-11-01')\n",
    "fb_stocks_series=pd.Series(list(fb_stocks['Adj Close']),index=pd.to_datetime(fb_stocks.index))\n",
    "fb_stocks_series_m=fb_stocks_series.resample(\"M\").mean()\n",
    "fb_TimePlot = pd.plotting.autocorrelation_plot(fb_stocks_series_m)\n",
    "fb_TimePlot.set_title(\"FB Autocorrelation Graph of Month End\")\n",
    "fb_TimePlot.set_ylabel(\"Correlation\")\n",
    "fb_TimePlot.set_xlabel(\"Lag (Month)\")\n",
    "None"
   ]
  },
  {
   "cell_type": "code",
   "execution_count": 28,
   "metadata": {},
   "outputs": [
    {
     "data": {
      "image/png": "[encoded data removed]",
      "text/plain": [
       "<Figure size 432x288 with 1 Axes>"
      ]
     },
     "metadata": {
      "needs_background": "light"
     },
     "output_type": "display_data"
    }
   ],
   "source": [
    "fb_return=fb_stocks_series_m / fb_stocks_series_m.shift(1)-1\n",
    "fb_return_adj=fb_return.fillna(0)\n",
    "fb_return_TimePlot = pd.plotting.autocorrelation_plot(fb_return_adj)\n",
    "fb_return_TimePlot.set_title(\"FB Autocorrelation Graph of Monthly Return\")\n",
    "fb_return_TimePlot.set_ylabel(\"Correlation\")\n",
    "fb_return_TimePlot.set_xlabel(\"Return (Month)\")\n",
    "None"
   ]
  },
  {
   "cell_type": "code",
   "execution_count": 29,
   "metadata": {},
   "outputs": [
    {
     "name": "stdout",
     "output_type": "stream",
     "text": [
      "[*********************100%***********************]  1 of 1 completed\n"
     ]
    },
    {
     "data": {
      "image/png": "[encoded data removed]",
      "text/plain": [
       "<Figure size 432x288 with 1 Axes>"
      ]
     },
     "metadata": {
      "needs_background": "light"
     },
     "output_type": "display_data"
    }
   ],
   "source": [
    "mmm_stocks_list = ['MMM']\n",
    "mmm_stocks = yf.download(mmm_stocks_list, start='2014-11-01', end='2019-11-01')\n",
    "mmm_stocks_series=pd.Series(list(mmm_stocks['Adj Close']),index=pd.to_datetime(mmm_stocks.index))\n",
    "mmm_stocks_series_m=mmm_stocks_series.resample(\"M\").mean()\n",
    "mmm_TimePlot = pd.plotting.autocorrelation_plot(mmm_stocks_series_m)\n",
    "mmm_TimePlot.set_title(\"MMM Autocorrelation Graph of Month End Price\")\n",
    "mmm_TimePlot.set_ylabel(\"Correlation\")\n",
    "mmm_TimePlot.set_xlabel(\"Lag (Month)\")\n",
    "None"
   ]
  },
  {
   "cell_type": "code",
   "execution_count": 30,
   "metadata": {},
   "outputs": [
    {
     "data": {
      "image/png": "[encoded data removed]",
      "text/plain": [
       "<Figure size 432x288 with 1 Axes>"
      ]
     },
     "metadata": {
      "needs_background": "light"
     },
     "output_type": "display_data"
    }
   ],
   "source": [
    "mmm_return=mmm_stocks_series_m / mmm_stocks_series_m.shift(1)-1\n",
    "mmm_return_adj=mmm_return.fillna(0)\n",
    "mmm_return_TimePlot = pd.plotting.autocorrelation_plot(mmm_return_adj)\n",
    "mmm_return_TimePlot.set_title(\"MMM Autocorrelation Graph of Monthly Return\")\n",
    "mmm_return_TimePlot.set_ylabel(\"Correlation\")\n",
    "mmm_return_TimePlot.set_xlabel(\"Return (Month)\")\n",
    "None"
   ]
  },
  {
   "cell_type": "code",
   "execution_count": 31,
   "metadata": {},
   "outputs": [],
   "source": [
    "#•Visualize the correlation between the returns of all pairs of stocks using a scatter plot matrix (use scatter_matrix() function from pandas.plotting).\n",
    "\n",
    "mmm_return_df=pd.Series.to_frame(mmm_return_adj)\n",
    "ibm_return_df=pd.Series.to_frame(ibm_return_adj)\n",
    "fb_return_df=pd.Series.to_frame(fb_return_adj)\n",
    "amzn_return_df=pd.Series.to_frame(amzn_return_adj)\n",
    "df_return_m= pd.concat([mmm_return_df,ibm_return_df,fb_return_df,amzn_return_df],axis=1)\n"
   ]
  },
  {
   "cell_type": "code",
   "execution_count": 32,
   "metadata": {},
   "outputs": [
    {
     "name": "stdout",
     "output_type": "stream",
     "text": [
      "<class 'pandas.core.frame.DataFrame'>\n",
      "DatetimeIndex: 61 entries, 2014-11-30 to 2019-11-30\n",
      "Freq: M\n",
      "Data columns (total 4 columns):\n",
      "0    61 non-null float64\n",
      "0    61 non-null float64\n",
      "0    61 non-null float64\n",
      "0    61 non-null float64\n",
      "dtypes: float64(4)\n",
      "memory usage: 4.9 KB\n"
     ]
    }
   ],
   "source": [
    "\n",
    "df_return_m.info()"
   ]
  },
  {
   "cell_type": "code",
   "execution_count": 33,
   "metadata": {},
   "outputs": [],
   "source": [
    "df_return_m.columns=['MMM','IBM','FB','AMZN']\n"
   ]
  },
  {
   "cell_type": "code",
   "execution_count": 34,
   "metadata": {
    "scrolled": true
   },
   "outputs": [
    {
     "data": {
      "text/html": [
       "<div>\n",
       "<style scoped>\n",
       "    .dataframe tbody tr th:only-of-type {\n",
       "        vertical-align: middle;\n",
       "    }\n",
       "\n",
       "    .dataframe tbody tr th {\n",
       "        vertical-align: top;\n",
       "    }\n",
       "\n",
       "    .dataframe thead th {\n",
       "        text-align: right;\n",
       "    }\n",
       "</style>\n",
       "<table border=\"1\" class=\"dataframe\">\n",
       "  <thead>\n",
       "    <tr style=\"text-align: right;\">\n",
       "      <th></th>\n",
       "      <th>MMM</th>\n",
       "      <th>IBM</th>\n",
       "      <th>FB</th>\n",
       "      <th>AMZN</th>\n",
       "    </tr>\n",
       "    <tr>\n",
       "      <th>Date</th>\n",
       "      <th></th>\n",
       "      <th></th>\n",
       "      <th></th>\n",
       "      <th></th>\n",
       "    </tr>\n",
       "  </thead>\n",
       "  <tbody>\n",
       "    <tr>\n",
       "      <th>2014-11-30</th>\n",
       "      <td>0.000000</td>\n",
       "      <td>0.000000</td>\n",
       "      <td>0.000000</td>\n",
       "      <td>0.000000</td>\n",
       "    </tr>\n",
       "    <tr>\n",
       "      <th>2014-12-31</th>\n",
       "      <td>0.032211</td>\n",
       "      <td>-0.013752</td>\n",
       "      <td>0.037255</td>\n",
       "      <td>-0.031067</td>\n",
       "    </tr>\n",
       "    <tr>\n",
       "      <th>2015-01-31</th>\n",
       "      <td>-0.000884</td>\n",
       "      <td>-0.024288</td>\n",
       "      <td>-0.012408</td>\n",
       "      <td>-0.019558</td>\n",
       "    </tr>\n",
       "    <tr>\n",
       "      <th>2015-02-28</th>\n",
       "      <td>0.031968</td>\n",
       "      <td>0.030872</td>\n",
       "      <td>0.002992</td>\n",
       "      <td>0.241118</td>\n",
       "    </tr>\n",
       "    <tr>\n",
       "      <th>2015-03-31</th>\n",
       "      <td>-0.006773</td>\n",
       "      <td>0.000175</td>\n",
       "      <td>0.052788</td>\n",
       "      <td>-0.001128</td>\n",
       "    </tr>\n",
       "    <tr>\n",
       "      <th>2015-04-30</th>\n",
       "      <td>-0.013514</td>\n",
       "      <td>0.033841</td>\n",
       "      <td>0.013310</td>\n",
       "      <td>0.050334</td>\n",
       "    </tr>\n",
       "    <tr>\n",
       "      <th>2015-05-31</th>\n",
       "      <td>-0.013381</td>\n",
       "      <td>0.055756</td>\n",
       "      <td>-0.032542</td>\n",
       "      <td>0.082987</td>\n",
       "    </tr>\n",
       "    <tr>\n",
       "      <th>2015-06-30</th>\n",
       "      <td>-0.013355</td>\n",
       "      <td>-0.027050</td>\n",
       "      <td>0.048648</td>\n",
       "      <td>0.013286</td>\n",
       "    </tr>\n",
       "    <tr>\n",
       "      <th>2015-07-31</th>\n",
       "      <td>-0.023917</td>\n",
       "      <td>-0.014320</td>\n",
       "      <td>0.105319</td>\n",
       "      <td>0.106587</td>\n",
       "    </tr>\n",
       "    <tr>\n",
       "      <th>2015-08-31</th>\n",
       "      <td>-0.047265</td>\n",
       "      <td>-0.066168</td>\n",
       "      <td>-0.003003</td>\n",
       "      <td>0.083048</td>\n",
       "    </tr>\n",
       "  </tbody>\n",
       "</table>\n",
       "</div>"
      ],
      "text/plain": [
       "                 MMM       IBM        FB      AMZN\n",
       "Date                                              \n",
       "2014-11-30  0.000000  0.000000  0.000000  0.000000\n",
       "2014-12-31  0.032211 -0.013752  0.037255 -0.031067\n",
       "2015-01-31 -0.000884 -0.024288 -0.012408 -0.019558\n",
       "2015-02-28  0.031968  0.030872  0.002992  0.241118\n",
       "2015-03-31 -0.006773  0.000175  0.052788 -0.001128\n",
       "2015-04-30 -0.013514  0.033841  0.013310  0.050334\n",
       "2015-05-31 -0.013381  0.055756 -0.032542  0.082987\n",
       "2015-06-30 -0.013355 -0.027050  0.048648  0.013286\n",
       "2015-07-31 -0.023917 -0.014320  0.105319  0.106587\n",
       "2015-08-31 -0.047265 -0.066168 -0.003003  0.083048"
      ]
     },
     "execution_count": 34,
     "metadata": {},
     "output_type": "execute_result"
    }
   ],
   "source": [
    "df_return_m.head(10)"
   ]
  },
  {
   "cell_type": "code",
   "execution_count": 35,
   "metadata": {
    "scrolled": true
   },
   "outputs": [
    {
     "data": {
      "text/html": [
       "<div>\n",
       "<style scoped>\n",
       "    .dataframe tbody tr th:only-of-type {\n",
       "        vertical-align: middle;\n",
       "    }\n",
       "\n",
       "    .dataframe tbody tr th {\n",
       "        vertical-align: top;\n",
       "    }\n",
       "\n",
       "    .dataframe thead th {\n",
       "        text-align: right;\n",
       "    }\n",
       "</style>\n",
       "<table border=\"1\" class=\"dataframe\">\n",
       "  <thead>\n",
       "    <tr style=\"text-align: right;\">\n",
       "      <th></th>\n",
       "      <th>MMM</th>\n",
       "      <th>IBM</th>\n",
       "      <th>FB</th>\n",
       "      <th>AMZN</th>\n",
       "    </tr>\n",
       "  </thead>\n",
       "  <tbody>\n",
       "    <tr>\n",
       "      <th>MMM</th>\n",
       "      <td>1.000000</td>\n",
       "      <td>0.491482</td>\n",
       "      <td>0.299108</td>\n",
       "      <td>0.227944</td>\n",
       "    </tr>\n",
       "    <tr>\n",
       "      <th>IBM</th>\n",
       "      <td>0.491482</td>\n",
       "      <td>1.000000</td>\n",
       "      <td>0.258880</td>\n",
       "      <td>0.286920</td>\n",
       "    </tr>\n",
       "    <tr>\n",
       "      <th>FB</th>\n",
       "      <td>0.299108</td>\n",
       "      <td>0.258880</td>\n",
       "      <td>1.000000</td>\n",
       "      <td>0.385450</td>\n",
       "    </tr>\n",
       "    <tr>\n",
       "      <th>AMZN</th>\n",
       "      <td>0.227944</td>\n",
       "      <td>0.286920</td>\n",
       "      <td>0.385450</td>\n",
       "      <td>1.000000</td>\n",
       "    </tr>\n",
       "  </tbody>\n",
       "</table>\n",
       "</div>"
      ],
      "text/plain": [
       "           MMM       IBM        FB      AMZN\n",
       "MMM   1.000000  0.491482  0.299108  0.227944\n",
       "IBM   0.491482  1.000000  0.258880  0.286920\n",
       "FB    0.299108  0.258880  1.000000  0.385450\n",
       "AMZN  0.227944  0.286920  0.385450  1.000000"
      ]
     },
     "execution_count": 35,
     "metadata": {},
     "output_type": "execute_result"
    }
   ],
   "source": [
    "return_m_corr=pd.DataFrame.corr(df_return_m, method='pearson', min_periods=1)\n",
    "return_m_corr"
   ]
  },
  {
   "cell_type": "code",
   "execution_count": 36,
   "metadata": {},
   "outputs": [],
   "source": [
    "#•Visualize the correlation between the returns of all pairs \n",
    "#of stocks using a scatter plot matrix (use scatter_matrix() function from pandas.plotting).\n"
   ]
  },
  {
   "cell_type": "code",
   "execution_count": 37,
   "metadata": {
    "scrolled": true
   },
   "outputs": [
    {
     "data": {
      "image/png": "[encoded data removed]",
      "text/plain": [
       "<Figure size 432x288 with 16 Axes>"
      ]
     },
     "metadata": {
      "needs_background": "light"
     },
     "output_type": "display_data"
    }
   ],
   "source": [
    "return_m_corr_plotting = pd.plotting.scatter_matrix(df_return_m,alpha=0.5)"
   ]
  },
  {
   "cell_type": "code",
   "execution_count": 38,
   "metadata": {},
   "outputs": [],
   "source": [
    "#•Explain the results. Is there any correlation?\n",
    "# In the 60 weeks timeframe, there is not clear correlation between these stocks\n",
    "# becuase it , the dots, it all over the place in the graph. \n"
   ]
  }
 ],
 "metadata": {
  "kernelspec": {
   "display_name": "Python 3",
   "language": "python",
   "name": "python3"
  },
  "language_info": {
   "codemirror_mode": {
    "name": "ipython",
    "version": 3
   },
   "file_extension": ".py",
   "mimetype": "text/x-python",
   "name": "python",
   "nbconvert_exporter": "python",
   "pygments_lexer": "ipython3",
   "version": "3.7.3"
  },
  "toc": {
   "base_numbering": 1,
   "nav_menu": {},
   "number_sections": false,
   "sideBar": true,
   "skip_h1_title": false,
   "title_cell": "Table of Contents",
   "title_sidebar": "Contents",
   "toc_cell": false,
   "toc_position": {},
   "toc_section_display": true,
   "toc_window_display": false
  }
 },
 "nbformat": 4,
 "nbformat_minor": 2
}
